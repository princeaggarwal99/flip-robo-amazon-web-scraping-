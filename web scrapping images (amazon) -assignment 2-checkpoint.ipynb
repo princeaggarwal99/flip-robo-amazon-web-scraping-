{
 "cells": [
  {
   "cell_type": "code",
   "execution_count": 158,
   "metadata": {},
   "outputs": [],
   "source": [
    "# importing libraries\n",
    "from selenium import webdriver\n",
    "from selenium.common.exceptions import StaleElementReferenceException\n",
    "from keras.preprocessing.image import save_img\n",
    "import os\n",
    "import shutil \n",
    "import requests\n",
    "import pandas as pd \n",
    "import csv \n",
    "# function for making directory\n",
    "def make_directory(dirname):\n",
    "    current_path=os.getcwd()\n",
    "    path=os.path.join(current_path,dirname)\n",
    "    if not os.path.exists(path):\n",
    "        os.makedirs(path)\n",
    "# for downloading images:\n",
    "def save_images(data,dirname,page):\n",
    "    for index,link in enumerate(data['images']):\n",
    "        print(\"downloading {0} of {1} images\".format(index + 1, len(data['images'])))\n",
    "        response=requests.get(link)\n",
    "        with open('{0}/img_{1} {2}.jpg'.format(dirname,page,index),\"wb\") as file:\n",
    "            file.write(response.content)\n",
    "        \n",
    "          \n",
    "driver_path=r\"C:\\Users\\prince\\Downloads\\chromedriver_win32\\chromedriver.exe \""
   ]
  },
  {
   "cell_type": "markdown",
   "metadata": {},
   "source": [
    "# # scrapping men (shirts)"
   ]
  },
  {
   "cell_type": "code",
   "execution_count": 159,
   "metadata": {},
   "outputs": [],
   "source": [
    "DIR_NAME=\"amazon_men_shirt\"\n",
    "make_directory(DIR_NAME)"
   ]
  },
  {
   "cell_type": "code",
   "execution_count": 1,
   "metadata": {},
   "outputs": [],
   "source": [
    "#page 1"
   ]
  },
  {
   "cell_type": "code",
   "execution_count": 160,
   "metadata": {
    "scrolled": true
   },
   "outputs": [
    {
     "name": "stdout",
     "output_type": "stream",
     "text": [
      "downloading 1 of 60 images\n",
      "downloading 2 of 60 images\n",
      "downloading 3 of 60 images\n",
      "downloading 4 of 60 images\n",
      "downloading 5 of 60 images\n",
      "downloading 6 of 60 images\n",
      "downloading 7 of 60 images\n",
      "downloading 8 of 60 images\n",
      "downloading 9 of 60 images\n",
      "downloading 10 of 60 images\n",
      "downloading 11 of 60 images\n",
      "downloading 12 of 60 images\n",
      "downloading 13 of 60 images\n",
      "downloading 14 of 60 images\n",
      "downloading 15 of 60 images\n",
      "downloading 16 of 60 images\n",
      "downloading 17 of 60 images\n",
      "downloading 18 of 60 images\n",
      "downloading 19 of 60 images\n",
      "downloading 20 of 60 images\n",
      "downloading 21 of 60 images\n",
      "downloading 22 of 60 images\n",
      "downloading 23 of 60 images\n",
      "downloading 24 of 60 images\n",
      "downloading 25 of 60 images\n",
      "downloading 26 of 60 images\n",
      "downloading 27 of 60 images\n",
      "downloading 28 of 60 images\n",
      "downloading 29 of 60 images\n",
      "downloading 30 of 60 images\n",
      "downloading 31 of 60 images\n",
      "downloading 32 of 60 images\n",
      "downloading 33 of 60 images\n",
      "downloading 34 of 60 images\n",
      "downloading 35 of 60 images\n",
      "downloading 36 of 60 images\n",
      "downloading 37 of 60 images\n",
      "downloading 38 of 60 images\n",
      "downloading 39 of 60 images\n",
      "downloading 40 of 60 images\n",
      "downloading 41 of 60 images\n",
      "downloading 42 of 60 images\n",
      "downloading 43 of 60 images\n",
      "downloading 44 of 60 images\n",
      "downloading 45 of 60 images\n",
      "downloading 46 of 60 images\n",
      "downloading 47 of 60 images\n",
      "downloading 48 of 60 images\n",
      "downloading 49 of 60 images\n",
      "downloading 50 of 60 images\n",
      "downloading 51 of 60 images\n",
      "downloading 52 of 60 images\n",
      "downloading 53 of 60 images\n",
      "downloading 54 of 60 images\n",
      "downloading 55 of 60 images\n",
      "downloading 56 of 60 images\n",
      "downloading 57 of 60 images\n",
      "downloading 58 of 60 images\n",
      "downloading 59 of 60 images\n",
      "downloading 60 of 60 images\n"
     ]
    }
   ],
   "source": [
    "driver=webdriver.Chrome(executable_path=driver_path)\n",
    "page_shirt_men=driver.get(\"https://www.amazon.in/s?rh=n%3A1571271031%2Cn%3A%211571272031%2Cn%3A1968024031%2Cn%3A1968093031&page=2&qid=1593613109&ref=lp_1968093031_pg_2\")\n",
    "def scrap_images(driver):\n",
    "    images=driver.find_elements_by_xpath(\"//img[@class='s-image']\")\n",
    "    \n",
    "    product_data= {}\n",
    "    product_data['images']=[]\n",
    "    \n",
    "    for image in images:\n",
    "        source=image.get_attribute('src')\n",
    "        product_data['images'].append(source)\n",
    "        \n",
    "    return product_data    \n",
    "\n",
    "product_details=scrap_images(driver=driver)\n",
    "save_images(data=product_details,dirname=DIR_NAME,page=2)\n",
    "\n",
    "        \n",
    "       "
   ]
  },
  {
   "cell_type": "code",
   "execution_count": 2,
   "metadata": {},
   "outputs": [],
   "source": [
    "# page 2 "
   ]
  },
  {
   "cell_type": "code",
   "execution_count": 161,
   "metadata": {
    "scrolled": true
   },
   "outputs": [
    {
     "name": "stdout",
     "output_type": "stream",
     "text": [
      "downloading 1 of 72 images\n",
      "downloading 2 of 72 images\n",
      "downloading 3 of 72 images\n",
      "downloading 4 of 72 images\n",
      "downloading 5 of 72 images\n",
      "downloading 6 of 72 images\n",
      "downloading 7 of 72 images\n",
      "downloading 8 of 72 images\n",
      "downloading 9 of 72 images\n",
      "downloading 10 of 72 images\n",
      "downloading 11 of 72 images\n",
      "downloading 12 of 72 images\n",
      "downloading 13 of 72 images\n",
      "downloading 14 of 72 images\n",
      "downloading 15 of 72 images\n",
      "downloading 16 of 72 images\n",
      "downloading 17 of 72 images\n",
      "downloading 18 of 72 images\n",
      "downloading 19 of 72 images\n",
      "downloading 20 of 72 images\n",
      "downloading 21 of 72 images\n",
      "downloading 22 of 72 images\n",
      "downloading 23 of 72 images\n",
      "downloading 24 of 72 images\n",
      "downloading 25 of 72 images\n",
      "downloading 26 of 72 images\n",
      "downloading 27 of 72 images\n",
      "downloading 28 of 72 images\n",
      "downloading 29 of 72 images\n",
      "downloading 30 of 72 images\n",
      "downloading 31 of 72 images\n",
      "downloading 32 of 72 images\n",
      "downloading 33 of 72 images\n",
      "downloading 34 of 72 images\n",
      "downloading 35 of 72 images\n",
      "downloading 36 of 72 images\n",
      "downloading 37 of 72 images\n",
      "downloading 38 of 72 images\n",
      "downloading 39 of 72 images\n",
      "downloading 40 of 72 images\n",
      "downloading 41 of 72 images\n",
      "downloading 42 of 72 images\n",
      "downloading 43 of 72 images\n",
      "downloading 44 of 72 images\n",
      "downloading 45 of 72 images\n",
      "downloading 46 of 72 images\n",
      "downloading 47 of 72 images\n",
      "downloading 48 of 72 images\n",
      "downloading 49 of 72 images\n",
      "downloading 50 of 72 images\n",
      "downloading 51 of 72 images\n",
      "downloading 52 of 72 images\n",
      "downloading 53 of 72 images\n",
      "downloading 54 of 72 images\n",
      "downloading 55 of 72 images\n",
      "downloading 56 of 72 images\n",
      "downloading 57 of 72 images\n",
      "downloading 58 of 72 images\n",
      "downloading 59 of 72 images\n",
      "downloading 60 of 72 images\n",
      "downloading 61 of 72 images\n",
      "downloading 62 of 72 images\n",
      "downloading 63 of 72 images\n",
      "downloading 64 of 72 images\n",
      "downloading 65 of 72 images\n",
      "downloading 66 of 72 images\n",
      "downloading 67 of 72 images\n",
      "downloading 68 of 72 images\n",
      "downloading 69 of 72 images\n",
      "downloading 70 of 72 images\n",
      "downloading 71 of 72 images\n",
      "downloading 72 of 72 images\n"
     ]
    }
   ],
   "source": [
    "driver=webdriver.Chrome(executable_path=driver_path)\n",
    "page_shirt_men=driver.get(\"https://www.amazon.in/gp/browse.html?node=1968093031&ref_=nav_em_0_2_10_4_sbc_mfashion_shirts\")\n",
    "def scrap_images(driver):\n",
    "    images=driver.find_elements_by_xpath(\"//img[@class='octopus-pc-item-image octopus-pc-item-image-v3']\")\n",
    "    \n",
    "    product_data= {}\n",
    "    product_data['images']=[]\n",
    "    \n",
    "    for image in images:\n",
    "        source=image.get_attribute('src')\n",
    "        product_data['images'].append(source)\n",
    "        \n",
    "    return product_data    \n",
    "\n",
    "product_details=scrap_images(driver=driver)\n",
    "save_images(data=product_details,dirname=DIR_NAME,page=1)\n",
    "\n",
    "        \n",
    "       "
   ]
  },
  {
   "cell_type": "markdown",
   "metadata": {},
   "source": [
    "# scrapping mens( t shirt)"
   ]
  },
  {
   "cell_type": "code",
   "execution_count": 162,
   "metadata": {},
   "outputs": [],
   "source": [
    "DIR_NAME=\"amazon_men_t_shirt\"\n",
    "make_directory(DIR_NAME)"
   ]
  },
  {
   "cell_type": "code",
   "execution_count": 3,
   "metadata": {},
   "outputs": [],
   "source": [
    "# page 1"
   ]
  },
  {
   "cell_type": "code",
   "execution_count": 164,
   "metadata": {
    "scrolled": true
   },
   "outputs": [
    {
     "name": "stdout",
     "output_type": "stream",
     "text": [
      "downloading 1 of 60 images\n",
      "downloading 2 of 60 images\n",
      "downloading 3 of 60 images\n",
      "downloading 4 of 60 images\n",
      "downloading 5 of 60 images\n",
      "downloading 6 of 60 images\n",
      "downloading 7 of 60 images\n",
      "downloading 8 of 60 images\n",
      "downloading 9 of 60 images\n",
      "downloading 10 of 60 images\n",
      "downloading 11 of 60 images\n",
      "downloading 12 of 60 images\n",
      "downloading 13 of 60 images\n",
      "downloading 14 of 60 images\n",
      "downloading 15 of 60 images\n",
      "downloading 16 of 60 images\n",
      "downloading 17 of 60 images\n",
      "downloading 18 of 60 images\n",
      "downloading 19 of 60 images\n",
      "downloading 20 of 60 images\n",
      "downloading 21 of 60 images\n",
      "downloading 22 of 60 images\n",
      "downloading 23 of 60 images\n",
      "downloading 24 of 60 images\n",
      "downloading 25 of 60 images\n",
      "downloading 26 of 60 images\n",
      "downloading 27 of 60 images\n",
      "downloading 28 of 60 images\n",
      "downloading 29 of 60 images\n",
      "downloading 30 of 60 images\n",
      "downloading 31 of 60 images\n",
      "downloading 32 of 60 images\n",
      "downloading 33 of 60 images\n",
      "downloading 34 of 60 images\n",
      "downloading 35 of 60 images\n",
      "downloading 36 of 60 images\n",
      "downloading 37 of 60 images\n",
      "downloading 38 of 60 images\n",
      "downloading 39 of 60 images\n",
      "downloading 40 of 60 images\n",
      "downloading 41 of 60 images\n",
      "downloading 42 of 60 images\n",
      "downloading 43 of 60 images\n",
      "downloading 44 of 60 images\n",
      "downloading 45 of 60 images\n",
      "downloading 46 of 60 images\n",
      "downloading 47 of 60 images\n",
      "downloading 48 of 60 images\n",
      "downloading 49 of 60 images\n",
      "downloading 50 of 60 images\n",
      "downloading 51 of 60 images\n",
      "downloading 52 of 60 images\n",
      "downloading 53 of 60 images\n",
      "downloading 54 of 60 images\n",
      "downloading 55 of 60 images\n",
      "downloading 56 of 60 images\n",
      "downloading 57 of 60 images\n",
      "downloading 58 of 60 images\n",
      "downloading 59 of 60 images\n",
      "downloading 60 of 60 images\n"
     ]
    }
   ],
   "source": [
    "driver2=webdriver.Chrome(executable_path=driver_path)\n",
    "page_tshirts_men=driver2.get(\"https://www.amazon.in/gp/browse.html?node=1968120031&ref_=nav_em_sbc_mfashion_tshirts_0_2_10_3\")\n",
    "def scrap_images(driver):\n",
    "    images=driver.find_elements_by_xpath(\"//img[@class='s-image']\")\n",
    "    \n",
    "    product_data= {}\n",
    "    product_data['images']=[]\n",
    "    \n",
    "    for image in images:\n",
    "        source=image.get_attribute('src')\n",
    "        product_data['images'].append(source)\n",
    "        \n",
    "    return product_data\n",
    "product_details=scrap_images(driver=driver2)\n",
    "save_images(data=product_details,dirname=DIR_NAME,page=1)"
   ]
  },
  {
   "cell_type": "code",
   "execution_count": 4,
   "metadata": {},
   "outputs": [],
   "source": [
    "# page 2"
   ]
  },
  {
   "cell_type": "code",
   "execution_count": 165,
   "metadata": {
    "scrolled": true
   },
   "outputs": [
    {
     "name": "stdout",
     "output_type": "stream",
     "text": [
      "downloading 1 of 60 images\n",
      "downloading 2 of 60 images\n",
      "downloading 3 of 60 images\n",
      "downloading 4 of 60 images\n",
      "downloading 5 of 60 images\n",
      "downloading 6 of 60 images\n",
      "downloading 7 of 60 images\n",
      "downloading 8 of 60 images\n",
      "downloading 9 of 60 images\n",
      "downloading 10 of 60 images\n",
      "downloading 11 of 60 images\n",
      "downloading 12 of 60 images\n",
      "downloading 13 of 60 images\n",
      "downloading 14 of 60 images\n",
      "downloading 15 of 60 images\n",
      "downloading 16 of 60 images\n",
      "downloading 17 of 60 images\n",
      "downloading 18 of 60 images\n",
      "downloading 19 of 60 images\n",
      "downloading 20 of 60 images\n",
      "downloading 21 of 60 images\n",
      "downloading 22 of 60 images\n",
      "downloading 23 of 60 images\n",
      "downloading 24 of 60 images\n",
      "downloading 25 of 60 images\n",
      "downloading 26 of 60 images\n",
      "downloading 27 of 60 images\n",
      "downloading 28 of 60 images\n",
      "downloading 29 of 60 images\n",
      "downloading 30 of 60 images\n",
      "downloading 31 of 60 images\n",
      "downloading 32 of 60 images\n",
      "downloading 33 of 60 images\n",
      "downloading 34 of 60 images\n",
      "downloading 35 of 60 images\n",
      "downloading 36 of 60 images\n",
      "downloading 37 of 60 images\n",
      "downloading 38 of 60 images\n",
      "downloading 39 of 60 images\n",
      "downloading 40 of 60 images\n",
      "downloading 41 of 60 images\n",
      "downloading 42 of 60 images\n",
      "downloading 43 of 60 images\n",
      "downloading 44 of 60 images\n",
      "downloading 45 of 60 images\n",
      "downloading 46 of 60 images\n",
      "downloading 47 of 60 images\n",
      "downloading 48 of 60 images\n",
      "downloading 49 of 60 images\n",
      "downloading 50 of 60 images\n",
      "downloading 51 of 60 images\n",
      "downloading 52 of 60 images\n",
      "downloading 53 of 60 images\n",
      "downloading 54 of 60 images\n",
      "downloading 55 of 60 images\n",
      "downloading 56 of 60 images\n",
      "downloading 57 of 60 images\n",
      "downloading 58 of 60 images\n",
      "downloading 59 of 60 images\n",
      "downloading 60 of 60 images\n"
     ]
    }
   ],
   "source": [
    "driver2=webdriver.Chrome(executable_path=driver_path)\n",
    "page_tshirts_men=driver2.get(\"https://www.amazon.in/s?k=Men%27s+T-Shirts+%26+Polos&page=2&_encoding=UTF8&c=ts&qid=1593613921&ts_id=1968120031&ref=sr_pg_2\")\n",
    "def scrap_images(driver):\n",
    "    images=driver.find_elements_by_xpath(\"//img[@class='s-image']\")\n",
    "    \n",
    "    product_data= {}\n",
    "    product_data['images']=[]\n",
    "    \n",
    "    for image in images:\n",
    "        source=image.get_attribute('src')\n",
    "        product_data['images'].append(source)\n",
    "        \n",
    "    return product_data    \n",
    "\n",
    "product_details=scrap_images(driver=driver2)\n",
    "save_images(data=product_details,dirname=DIR_NAME,page=2)\n",
    "\n",
    "        \n",
    "       "
   ]
  },
  {
   "cell_type": "markdown",
   "metadata": {},
   "source": [
    "# scrapping women (sarees):"
   ]
  },
  {
   "cell_type": "code",
   "execution_count": 166,
   "metadata": {},
   "outputs": [],
   "source": [
    "DIRNAME=\"amazon_women_sarees\"\n",
    "make_directory(DIRNAME)"
   ]
  },
  {
   "cell_type": "code",
   "execution_count": 167,
   "metadata": {
    "scrolled": true
   },
   "outputs": [
    {
     "name": "stdout",
     "output_type": "stream",
     "text": [
      "downloading 1 of 48 images\n",
      "downloading 2 of 48 images\n",
      "downloading 3 of 48 images\n",
      "downloading 4 of 48 images\n",
      "downloading 5 of 48 images\n",
      "downloading 6 of 48 images\n",
      "downloading 7 of 48 images\n",
      "downloading 8 of 48 images\n",
      "downloading 9 of 48 images\n",
      "downloading 10 of 48 images\n",
      "downloading 11 of 48 images\n",
      "downloading 12 of 48 images\n",
      "downloading 13 of 48 images\n",
      "downloading 14 of 48 images\n",
      "downloading 15 of 48 images\n",
      "downloading 16 of 48 images\n",
      "downloading 17 of 48 images\n",
      "downloading 18 of 48 images\n",
      "downloading 19 of 48 images\n",
      "downloading 20 of 48 images\n",
      "downloading 21 of 48 images\n",
      "downloading 22 of 48 images\n",
      "downloading 23 of 48 images\n",
      "downloading 24 of 48 images\n",
      "downloading 25 of 48 images\n",
      "downloading 26 of 48 images\n",
      "downloading 27 of 48 images\n",
      "downloading 28 of 48 images\n",
      "downloading 29 of 48 images\n",
      "downloading 30 of 48 images\n",
      "downloading 31 of 48 images\n",
      "downloading 32 of 48 images\n",
      "downloading 33 of 48 images\n",
      "downloading 34 of 48 images\n",
      "downloading 35 of 48 images\n",
      "downloading 36 of 48 images\n",
      "downloading 37 of 48 images\n",
      "downloading 38 of 48 images\n",
      "downloading 39 of 48 images\n",
      "downloading 40 of 48 images\n",
      "downloading 41 of 48 images\n",
      "downloading 42 of 48 images\n",
      "downloading 43 of 48 images\n",
      "downloading 44 of 48 images\n",
      "downloading 45 of 48 images\n",
      "downloading 46 of 48 images\n",
      "downloading 47 of 48 images\n",
      "downloading 48 of 48 images\n"
     ]
    }
   ],
   "source": [
    "driver3=webdriver.Chrome(executable_path=driver_path)\n",
    "women_sarees=driver3.get(\"https://www.amazon.in/s?i=apparel&bbn=1968253031&rh=n%3A1571271031%2Cn%3A1571272031%2Cn%3A1953602031%2Cn%3A1968253031%2Cn%3A1968256031%2Cp_36%3A-39900&dc&pf_rd_i=1968253031&pf_rd_m=A1VBAL9TL5WCBF&pf_rd_p=a22764f8-fc1d-4acd-abd2-0a0517e2b24c&pf_rd_r=71W46D2F1C8P2JY3BVCQ&pf_rd_s=merchandised-search-9&qid=1581500675&rnid=4595083031&ref=sr_nr_p_36_1\")\n",
    "def scrap_images(driver):\n",
    "    images=driver.find_elements_by_xpath(\"//img[@class='s-image']\")\n",
    "    product_data= {}\n",
    "    product_data['images']=[]\n",
    "    for image in images:\n",
    "        source=image.get_attribute('src')\n",
    "        product_data['images'].append(source)\n",
    "        \n",
    "    return product_data\n",
    "\n",
    "\n",
    "product_details=scrap_images(driver=driver3)\n",
    "save_images(data=product_details,dirname=DIRNAME,page=1)"
   ]
  },
  {
   "cell_type": "code",
   "execution_count": 168,
   "metadata": {
    "scrolled": true
   },
   "outputs": [
    {
     "name": "stdout",
     "output_type": "stream",
     "text": [
      "downloading 1 of 48 images\n",
      "downloading 2 of 48 images\n",
      "downloading 3 of 48 images\n",
      "downloading 4 of 48 images\n",
      "downloading 5 of 48 images\n",
      "downloading 6 of 48 images\n",
      "downloading 7 of 48 images\n",
      "downloading 8 of 48 images\n",
      "downloading 9 of 48 images\n",
      "downloading 10 of 48 images\n",
      "downloading 11 of 48 images\n",
      "downloading 12 of 48 images\n",
      "downloading 13 of 48 images\n",
      "downloading 14 of 48 images\n",
      "downloading 15 of 48 images\n",
      "downloading 16 of 48 images\n",
      "downloading 17 of 48 images\n",
      "downloading 18 of 48 images\n",
      "downloading 19 of 48 images\n",
      "downloading 20 of 48 images\n",
      "downloading 21 of 48 images\n",
      "downloading 22 of 48 images\n",
      "downloading 23 of 48 images\n",
      "downloading 24 of 48 images\n",
      "downloading 25 of 48 images\n",
      "downloading 26 of 48 images\n",
      "downloading 27 of 48 images\n",
      "downloading 28 of 48 images\n",
      "downloading 29 of 48 images\n",
      "downloading 30 of 48 images\n",
      "downloading 31 of 48 images\n",
      "downloading 32 of 48 images\n",
      "downloading 33 of 48 images\n",
      "downloading 34 of 48 images\n",
      "downloading 35 of 48 images\n",
      "downloading 36 of 48 images\n",
      "downloading 37 of 48 images\n",
      "downloading 38 of 48 images\n",
      "downloading 39 of 48 images\n",
      "downloading 40 of 48 images\n",
      "downloading 41 of 48 images\n",
      "downloading 42 of 48 images\n",
      "downloading 43 of 48 images\n",
      "downloading 44 of 48 images\n",
      "downloading 45 of 48 images\n",
      "downloading 46 of 48 images\n",
      "downloading 47 of 48 images\n",
      "downloading 48 of 48 images\n"
     ]
    }
   ],
   "source": [
    "driver3=webdriver.Chrome(executable_path=driver_path)\n",
    "women_sarees=driver3.get(\"https://www.amazon.in/s?i=apparel&bbn=1968253031&rh=n%3A1571271031%2Cn%3A1571272031%2Cn%3A1953602031%2Cn%3A1968253031%2Cn%3A1968256031%2Cp_36%3A-39900&dc&page=2&pf_rd_i=1968253031&pf_rd_m=A1VBAL9TL5WCBF&pf_rd_p=a22764f8-fc1d-4acd-abd2-0a0517e2b24c&pf_rd_r=71W46D2F1C8P2JY3BVCQ&pf_rd_s=merchandised-search-9&qid=1593766219&rnid=4595083031&ref=sr_pg_2\")\n",
    "def scrap_images(driver):\n",
    "    images=driver.find_elements_by_xpath(\"//img[@class='s-image']\")\n",
    "    product_data= {}\n",
    "    product_data['images']=[]\n",
    "    for image in images:\n",
    "        source=image.get_attribute('src')\n",
    "        product_data['images'].append(source)\n",
    "        \n",
    "    return product_data\n",
    "\n",
    "\n",
    "product_details=scrap_images(driver=driver3)\n",
    "save_images(data=product_details,dirname=DIRNAME,page=2)"
   ]
  },
  {
   "cell_type": "code",
   "execution_count": 169,
   "metadata": {
    "scrolled": true
   },
   "outputs": [
    {
     "name": "stdout",
     "output_type": "stream",
     "text": [
      "downloading 1 of 48 images\n",
      "downloading 2 of 48 images\n",
      "downloading 3 of 48 images\n",
      "downloading 4 of 48 images\n",
      "downloading 5 of 48 images\n",
      "downloading 6 of 48 images\n",
      "downloading 7 of 48 images\n",
      "downloading 8 of 48 images\n",
      "downloading 9 of 48 images\n",
      "downloading 10 of 48 images\n",
      "downloading 11 of 48 images\n",
      "downloading 12 of 48 images\n",
      "downloading 13 of 48 images\n",
      "downloading 14 of 48 images\n",
      "downloading 15 of 48 images\n",
      "downloading 16 of 48 images\n",
      "downloading 17 of 48 images\n",
      "downloading 18 of 48 images\n",
      "downloading 19 of 48 images\n",
      "downloading 20 of 48 images\n",
      "downloading 21 of 48 images\n",
      "downloading 22 of 48 images\n",
      "downloading 23 of 48 images\n",
      "downloading 24 of 48 images\n",
      "downloading 25 of 48 images\n",
      "downloading 26 of 48 images\n",
      "downloading 27 of 48 images\n",
      "downloading 28 of 48 images\n",
      "downloading 29 of 48 images\n",
      "downloading 30 of 48 images\n",
      "downloading 31 of 48 images\n",
      "downloading 32 of 48 images\n",
      "downloading 33 of 48 images\n",
      "downloading 34 of 48 images\n",
      "downloading 35 of 48 images\n",
      "downloading 36 of 48 images\n",
      "downloading 37 of 48 images\n",
      "downloading 38 of 48 images\n",
      "downloading 39 of 48 images\n",
      "downloading 40 of 48 images\n",
      "downloading 41 of 48 images\n",
      "downloading 42 of 48 images\n",
      "downloading 43 of 48 images\n",
      "downloading 44 of 48 images\n",
      "downloading 45 of 48 images\n",
      "downloading 46 of 48 images\n",
      "downloading 47 of 48 images\n",
      "downloading 48 of 48 images\n"
     ]
    }
   ],
   "source": [
    "driver3=webdriver.Chrome(executable_path=driver_path)\n",
    "women_sarees=driver3.get(\"https://www.amazon.in/s?i=apparel&bbn=1968253031&rh=n%3A1571271031%2Cn%3A1571272031%2Cn%3A1953602031%2Cn%3A1968253031%2Cn%3A1968256031%2Cp_36%3A-39900&dc&page=3&pf_rd_i=1968253031&pf_rd_m=A1VBAL9TL5WCBF&pf_rd_p=a22764f8-fc1d-4acd-abd2-0a0517e2b24c&pf_rd_r=71W46D2F1C8P2JY3BVCQ&pf_rd_s=merchandised-search-9&qid=1593766568&rnid=4595083031&ref=sr_pg_3\")\n",
    "def scrap_images(driver):\n",
    "    images=driver.find_elements_by_xpath(\"//img[@class='s-image']\")\n",
    "    product_data= {}\n",
    "    product_data['images']=[]\n",
    "    for image in images:\n",
    "        source=image.get_attribute('src')\n",
    "        product_data['images'].append(source)\n",
    "        \n",
    "    return product_data\n",
    "\n",
    "\n",
    "product_details=scrap_images(driver=driver3)\n",
    "save_images(data=product_details,dirname=DIRNAME,page=3)"
   ]
  },
  {
   "cell_type": "code",
   "execution_count": null,
   "metadata": {},
   "outputs": [],
   "source": [
    "## i have downloaded more than 100 images from each category so as to split it into some training  (100) and validating data\n",
    "\n",
    "## aslo i splitted into train and test data  to their respective columns\n"
   ]
  },
  {
   "cell_type": "code",
   "execution_count": 170,
   "metadata": {},
   "outputs": [],
   "source": [
    "\n",
    "\n",
    "import keras\n",
    "from matplotlib import pyplot\n",
    "from keras.utils import to_categorical\n",
    "from keras.models import Sequential\n",
    "from keras.layers import Conv2D\n",
    "from keras.layers import MaxPooling2D\n",
    "from keras.layers import Dense\n",
    "from keras.layers import Flatten\n",
    "from keras.optimizers import SGD\n",
    "from keras.preprocessing.image import ImageDataGenerator"
   ]
  },
  {
   "cell_type": "markdown",
   "metadata": {},
   "source": [
    "# MODEL BUILDING :"
   ]
  },
  {
   "cell_type": "code",
   "execution_count": 171,
   "metadata": {},
   "outputs": [],
   "source": [
    "# MANUALLY RESIZING THE IMAGE SIZES FOR THE OUTPUT\n",
    "i_wd=150\n",
    "i_ht=150\n",
    "# BUILDING CNN MODEL LAYERS\n",
    "model = Sequential()\n",
    "\n",
    "#FIRST CONV+RELU LAYER\n",
    "model.add(Conv2D(32, (3, 3), activation='relu', padding='same', input_shape=(i_wd,i_ht,3)))\n",
    "model.add(MaxPooling2D((2, 2)))\n",
    "model.add(Conv2D(32, (3, 3), activation='relu', padding='same', input_shape=(i_wd,i_ht,3)))\n",
    "model.add(MaxPooling2D((2, 2)))\n",
    "\n",
    "\n",
    "#SECOND CONV+RELU LAYER\n",
    "model.add(Conv2D(64, (3, 3), activation='relu', padding='same', input_shape=(i_wd,i_ht,3)))\n",
    "model.add(MaxPooling2D((2, 2)))\n",
    "\n",
    "#THIRD CONV+RELU LAYER\n",
    "model.add(Conv2D(64, (3, 3), activation='relu', padding='same', input_shape=(i_wd,i_ht,3)))\n",
    "model.add(MaxPooling2D((2, 2)))\n",
    "\n",
    "\n",
    "\n",
    "#FULLY CONNECTED LAYER\n",
    "model.add(Flatten())\n",
    "model.add(Dense(512, activation='relu'))\n",
    "model.add(Dense(3, activation='softmax'))\n",
    "\n",
    "#COMPILING THE MODEL\n",
    "model.compile(loss=\"categorical_crossentropy\",optimizer=\"SGD\",metrics=['accuracy'])\n",
    "\n",
    "##### DATA AUGMENTATION\n",
    "train_data_gen=ImageDataGenerator(rescale=1./255)\n",
    "valid_data_gen=ImageDataGenerator(rescale=1./255)"
   ]
  },
  {
   "cell_type": "code",
   "execution_count": 172,
   "metadata": {},
   "outputs": [],
   "source": [
    "train_path=\"C:/Users/prince/data/train\"\n",
    "test_path=\"C:/Users/prince/data/test\""
   ]
  },
  {
   "cell_type": "code",
   "execution_count": 173,
   "metadata": {},
   "outputs": [
    {
     "name": "stdout",
     "output_type": "stream",
     "text": [
      "Found 300 images belonging to 3 classes.\n",
      "Found 96 images belonging to 3 classes.\n"
     ]
    }
   ],
   "source": [
    "train_gen=train_data_gen.flow_from_directory(directory =train_path,target_size=(150, 150),batch_size=20,shuffle=True)\n",
    "valid_gen=valid_data_gen.flow_from_directory(directory =test_path,target_size=(150, 150),batch_size=20,shuffle=True)\n"
   ]
  },
  {
   "cell_type": "code",
   "execution_count": 270,
   "metadata": {},
   "outputs": [
    {
     "data": {
      "text/plain": [
       "{'amazon_men_shirt': 0, 'amazon_men_t_shirt': 1, 'amazon_women_sarees': 2}"
      ]
     },
     "execution_count": 270,
     "metadata": {},
     "output_type": "execute_result"
    }
   ],
   "source": [
    "train_gen.class_indices"
   ]
  },
  {
   "cell_type": "code",
   "execution_count": 178,
   "metadata": {},
   "outputs": [
    {
     "data": {
      "text/plain": [
       "{'amazon_men_shirt': 0, 'amazon_men_t_shirt': 1, 'amazon_women_sarees': 2}"
      ]
     },
     "execution_count": 178,
     "metadata": {},
     "output_type": "execute_result"
    }
   ],
   "source": [
    "valid_gen.class_indices"
   ]
  },
  {
   "cell_type": "code",
   "execution_count": 180,
   "metadata": {},
   "outputs": [
    {
     "name": "stdout",
     "output_type": "stream",
     "text": [
      "Model: \"sequential_22\"\n",
      "_________________________________________________________________\n",
      "Layer (type)                 Output Shape              Param #   \n",
      "=================================================================\n",
      "conv2d_88 (Conv2D)           (None, 150, 150, 32)      896       \n",
      "_________________________________________________________________\n",
      "max_pooling2d_88 (MaxPooling (None, 75, 75, 32)        0         \n",
      "_________________________________________________________________\n",
      "conv2d_89 (Conv2D)           (None, 75, 75, 32)        9248      \n",
      "_________________________________________________________________\n",
      "max_pooling2d_89 (MaxPooling (None, 37, 37, 32)        0         \n",
      "_________________________________________________________________\n",
      "conv2d_90 (Conv2D)           (None, 37, 37, 64)        18496     \n",
      "_________________________________________________________________\n",
      "max_pooling2d_90 (MaxPooling (None, 18, 18, 64)        0         \n",
      "_________________________________________________________________\n",
      "conv2d_91 (Conv2D)           (None, 18, 18, 64)        36928     \n",
      "_________________________________________________________________\n",
      "max_pooling2d_91 (MaxPooling (None, 9, 9, 64)          0         \n",
      "_________________________________________________________________\n",
      "flatten_22 (Flatten)         (None, 5184)              0         \n",
      "_________________________________________________________________\n",
      "dense_44 (Dense)             (None, 512)               2654720   \n",
      "_________________________________________________________________\n",
      "dense_45 (Dense)             (None, 3)                 1539      \n",
      "=================================================================\n",
      "Total params: 2,721,827\n",
      "Trainable params: 2,721,827\n",
      "Non-trainable params: 0\n",
      "_________________________________________________________________\n"
     ]
    }
   ],
   "source": [
    "model.summary()"
   ]
  },
  {
   "cell_type": "code",
   "execution_count": 243,
   "metadata": {},
   "outputs": [
    {
     "name": "stdout",
     "output_type": "stream",
     "text": [
      "Epoch 1/20\n",
      "15/15 [==============================] - 4s 285ms/step - loss: 0.4246 - accuracy: 0.8333 - val_loss: 0.2876 - val_accuracy: 0.9271\n",
      "Epoch 2/20\n",
      "15/15 [==============================] - 4s 280ms/step - loss: 0.2770 - accuracy: 0.8833 - val_loss: 0.2430 - val_accuracy: 0.9479\n",
      "Epoch 3/20\n",
      "15/15 [==============================] - 5s 304ms/step - loss: 0.2154 - accuracy: 0.9267 - val_loss: 0.2395 - val_accuracy: 0.9688\n",
      "Epoch 4/20\n",
      "15/15 [==============================] - 5s 361ms/step - loss: 0.2213 - accuracy: 0.9000 - val_loss: 0.2694 - val_accuracy: 0.9167\n",
      "Epoch 5/20\n",
      "15/15 [==============================] - 6s 401ms/step - loss: 0.2065 - accuracy: 0.9200 - val_loss: 0.2233 - val_accuracy: 0.9688\n",
      "Epoch 6/20\n",
      "15/15 [==============================] - 5s 359ms/step - loss: 0.2043 - accuracy: 0.9267 - val_loss: 0.2302 - val_accuracy: 0.9479\n",
      "Epoch 7/20\n",
      "15/15 [==============================] - 5s 351ms/step - loss: 0.2041 - accuracy: 0.9300 - val_loss: 0.2490 - val_accuracy: 0.9375\n",
      "Epoch 8/20\n",
      "15/15 [==============================] - 5s 351ms/step - loss: 0.1698 - accuracy: 0.9300 - val_loss: 0.2377 - val_accuracy: 0.9479\n",
      "Epoch 9/20\n",
      "15/15 [==============================] - 5s 352ms/step - loss: 0.1754 - accuracy: 0.9300 - val_loss: 0.2925 - val_accuracy: 0.9062\n",
      "Epoch 10/20\n",
      "15/15 [==============================] - 5s 350ms/step - loss: 0.2293 - accuracy: 0.9100 - val_loss: 0.2353 - val_accuracy: 0.9479\n",
      "Epoch 11/20\n",
      "15/15 [==============================] - 5s 360ms/step - loss: 0.1398 - accuracy: 0.9633 - val_loss: 0.2191 - val_accuracy: 0.9583\n",
      "Epoch 12/20\n",
      "15/15 [==============================] - 5s 352ms/step - loss: 0.1306 - accuracy: 0.9533 - val_loss: 0.2188 - val_accuracy: 0.9583\n",
      "Epoch 13/20\n",
      "15/15 [==============================] - 5s 363ms/step - loss: 0.1202 - accuracy: 0.9567 - val_loss: 0.2423 - val_accuracy: 0.9479\n",
      "Epoch 14/20\n",
      "15/15 [==============================] - 5s 355ms/step - loss: 0.1426 - accuracy: 0.9633 - val_loss: 0.2699 - val_accuracy: 0.9375\n",
      "Epoch 15/20\n",
      "15/15 [==============================] - 5s 360ms/step - loss: 0.1550 - accuracy: 0.9367 - val_loss: 0.2671 - val_accuracy: 0.9583\n",
      "Epoch 16/20\n",
      "15/15 [==============================] - 5s 364ms/step - loss: 0.1267 - accuracy: 0.9600 - val_loss: 0.2891 - val_accuracy: 0.9062\n",
      "Epoch 17/20\n",
      "15/15 [==============================] - 5s 353ms/step - loss: 0.1490 - accuracy: 0.9433 - val_loss: 0.2388 - val_accuracy: 0.9479\n",
      "Epoch 18/20\n",
      "15/15 [==============================] - 5s 363ms/step - loss: 0.1311 - accuracy: 0.9433 - val_loss: 0.2157 - val_accuracy: 0.9583\n",
      "Epoch 19/20\n",
      "15/15 [==============================] - 5s 359ms/step - loss: 0.0825 - accuracy: 0.9833 - val_loss: 0.2847 - val_accuracy: 0.9167\n",
      "Epoch 20/20\n",
      "15/15 [==============================] - 5s 356ms/step - loss: 0.1894 - accuracy: 0.9267 - val_loss: 0.2713 - val_accuracy: 0.9375\n"
     ]
    }
   ],
   "source": [
    "#FITTING , GENERATING ACCURACY AND LOSS\n",
    "history=model.fit(train_gen,validation_data=valid_gen,epochs = 20)\n"
   ]
  },
  {
   "cell_type": "code",
   "execution_count": 244,
   "metadata": {},
   "outputs": [
    {
     "data": {
      "text/plain": [
       "[0.2713160216808319, 0.9375]"
      ]
     },
     "execution_count": 244,
     "metadata": {},
     "output_type": "execute_result"
    }
   ],
   "source": [
    "## score for the test data or validation data \n",
    "m=model.evaluate(valid_gen,verbose=0)\n",
    "m"
   ]
  },
  {
   "cell_type": "code",
   "execution_count": 245,
   "metadata": {
    "scrolled": true
   },
   "outputs": [
    {
     "data": {
      "text/plain": [
       "{'loss': [0.42459994554519653,\n",
       "  0.27701959013938904,\n",
       "  0.21538929641246796,\n",
       "  0.22133560478687286,\n",
       "  0.20646585524082184,\n",
       "  0.20434507727622986,\n",
       "  0.20412388443946838,\n",
       "  0.16979335248470306,\n",
       "  0.17537401616573334,\n",
       "  0.22934406995773315,\n",
       "  0.139846071600914,\n",
       "  0.13059920072555542,\n",
       "  0.12020910531282425,\n",
       "  0.1426100879907608,\n",
       "  0.15499576926231384,\n",
       "  0.126703143119812,\n",
       "  0.1490354984998703,\n",
       "  0.13113383948802948,\n",
       "  0.08249107003211975,\n",
       "  0.18937216699123383],\n",
       " 'accuracy': [0.8333333134651184,\n",
       "  0.8833333253860474,\n",
       "  0.9266666769981384,\n",
       "  0.8999999761581421,\n",
       "  0.9200000166893005,\n",
       "  0.9266666769981384,\n",
       "  0.9300000071525574,\n",
       "  0.9300000071525574,\n",
       "  0.9300000071525574,\n",
       "  0.9100000262260437,\n",
       "  0.9633333086967468,\n",
       "  0.95333331823349,\n",
       "  0.9566666483879089,\n",
       "  0.9633333086967468,\n",
       "  0.9366666674613953,\n",
       "  0.9599999785423279,\n",
       "  0.9433333277702332,\n",
       "  0.9433333277702332,\n",
       "  0.9833333492279053,\n",
       "  0.9266666769981384],\n",
       " 'val_loss': [0.2876220643520355,\n",
       "  0.24304278194904327,\n",
       "  0.23951470851898193,\n",
       "  0.26940789818763733,\n",
       "  0.22330375015735626,\n",
       "  0.23021161556243896,\n",
       "  0.24897603690624237,\n",
       "  0.23765893280506134,\n",
       "  0.2924513518810272,\n",
       "  0.23531989753246307,\n",
       "  0.21908508241176605,\n",
       "  0.21879680454730988,\n",
       "  0.2423432320356369,\n",
       "  0.26992568373680115,\n",
       "  0.2670552134513855,\n",
       "  0.28914597630500793,\n",
       "  0.23876021802425385,\n",
       "  0.2157364934682846,\n",
       "  0.2846739888191223,\n",
       "  0.2713160216808319],\n",
       " 'val_accuracy': [0.9270833134651184,\n",
       "  0.9479166865348816,\n",
       "  0.96875,\n",
       "  0.9166666865348816,\n",
       "  0.96875,\n",
       "  0.9479166865348816,\n",
       "  0.9375,\n",
       "  0.9479166865348816,\n",
       "  0.90625,\n",
       "  0.9479166865348816,\n",
       "  0.9583333134651184,\n",
       "  0.9583333134651184,\n",
       "  0.9479166865348816,\n",
       "  0.9375,\n",
       "  0.9583333134651184,\n",
       "  0.90625,\n",
       "  0.9479166865348816,\n",
       "  0.9583333134651184,\n",
       "  0.9166666865348816,\n",
       "  0.9375]}"
      ]
     },
     "execution_count": 245,
     "metadata": {},
     "output_type": "execute_result"
    }
   ],
   "source": [
    "history.history"
   ]
  },
  {
   "cell_type": "code",
   "execution_count": 246,
   "metadata": {},
   "outputs": [
    {
     "name": "stdout",
     "output_type": "stream",
     "text": [
      "dict_keys(['loss', 'accuracy', 'val_loss', 'val_accuracy'])\n"
     ]
    },
    {
     "data": {
      "image/png": "[encoded data removed]",
      "text/plain": [
       "<Figure size 432x288 with 1 Axes>"
      ]
     },
     "metadata": {
      "needs_background": "light"
     },
     "output_type": "display_data"
    },
    {
     "data": {
      "image/png": "[encoded data removed]",
      "text/plain": [
       "<Figure size 432x288 with 1 Axes>"
      ]
     },
     "metadata": {
      "needs_background": "light"
     },
     "output_type": "display_data"
    }
   ],
   "source": [
    "import matplotlib.pyplot as plt\n",
    "%matplotlib inline\n",
    "\n",
    "# list all data in history\n",
    "print(history.history.keys())\n",
    "# summarize history for accuracy\n",
    "plt.plot(history.history['accuracy'])\n",
    "plt.plot(history.history['val_accuracy'])\n",
    "\n",
    "plt.title('model accuracy')\n",
    "plt.ylabel('accuracy')\n",
    "plt.xlabel('epoch')\n",
    "plt.legend(['train', 'test'], loc='upper left')\n",
    "plt.show()\n",
    "# summarize history for loss\n",
    "plt.plot(history.history['loss'])\n",
    "plt.plot(history.history['val_loss'])\n",
    "\n",
    "plt.title('model loss')\n",
    "plt.ylabel('loss')\n",
    "plt.xlabel('epoch')\n",
    "plt.legend(['train', 'test'], loc='upper left')\n",
    "plt.show()"
   ]
  },
  {
   "cell_type": "code",
   "execution_count": null,
   "metadata": {},
   "outputs": [],
   "source": [
    "#model working well with an accuracy of >94\n",
    "#also loss is continuously decreasing"
   ]
  }
 ],
 "metadata": {
  "kernelspec": {
   "display_name": "Python 3",
   "language": "python",
   "name": "python3"
  },
  "language_info": {
   "codemirror_mode": {
    "name": "ipython",
    "version": 3
   },
   "file_extension": ".py",
   "mimetype": "text/x-python",
   "name": "python",
   "nbconvert_exporter": "python",
   "pygments_lexer": "ipython3",
   "version": "3.7.4"
  }
 },
 "nbformat": 4,
 "nbformat_minor": 2
}
